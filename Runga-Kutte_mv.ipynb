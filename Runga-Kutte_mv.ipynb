{
 "cells": [
  {
   "cell_type": "markdown",
   "metadata": {},
   "source": [
    "# Create a notebook to perform Runge-Kutte integration for multiple coupled variables"
   ]
  },
  {
   "cell_type": "code",
   "execution_count": 2,
   "metadata": {},
   "outputs": [],
   "source": [
    "%matplotlib inline\n",
    "import numpy as np\n",
    "import matplotlib.pyplot as plt"
   ]
  },
  {
   "cell_type": "markdown",
   "metadata": {},
   "source": [
    "## Define our coupled variables to integrate"
   ]
  },
  {
   "cell_type": "code",
   "execution_count": 4,
   "metadata": {},
   "outputs": [],
   "source": [
    "def dydx(x,y):\n",
    "    \n",
    "    # set the derivatives\n",
    "    \n",
    "    # our equation is d^2y/dx^2 = -y\n",
    "    \n",
    "    # so we can write\n",
    "    # dy/dx = z\n",
    "    # dz/dx = -y\n",
    "    \n",
    "    # we will set y = y[0]\n",
    "    # we will set z = y[1]\n",
    "    \n",
    "    # declare an array\n",
    "    y_derivs = np.zeros(2)\n",
    "    \n",
    "    #set dy/dx = z\n",
    "    y_derivs[0] = y[1]\n",
    "    \n",
    "    # set dz/dx = -y\n",
    "    y_derivs[1] = -1*y[0]\n",
    "    \n",
    "    # we return the arrays of dy/dx\n",
    "    return y_derivs"
   ]
  },
  {
   "cell_type": "markdown",
   "metadata": {},
   "source": [
    "## Define the 4th order RK method"
   ]
  },
  {
   "cell_type": "code",
   "execution_count": 5,
   "metadata": {},
   "outputs": [],
   "source": [
    "def rk4_mv_core(dydx,xi,yi,nv,h):\n",
    "    \n",
    "    # declare k? arrays\n",
    "    k1 = np.zeros(nv)\n",
    "    k2 = np.zeros(nv)\n",
    "    k3 = np.zeros(nv)\n",
    "    k4 = np.zeros(nv)\n",
    "    \n",
    "    # define x at 1/2 step\n",
    "    x_ipoh = xi + 0.5*h\n",
    "    \n",
    "    # define x at 1 step\n",
    "    x_ipo = xi + h\n",
    "    \n",
    "    # declare a temp array\n",
    "    y_temp = np.zeros(nv)\n",
    "    \n",
    "    # get our k1 value\n",
    "    y_derivs = dydx(xi,yi)\n",
    "    k1[:] = h*y_derivs[:]\n",
    "    \n",
    "    # get our k2 value\n",
    "    y_temp[:] = yi[:] + 0.5*k1[:]\n",
    "    y_derivs = dydx(x_ipoh,y_temp)\n",
    "    k2[:] = h*y_derivs[:]\n",
    "    \n",
    "    # get our k3 value\n",
    "    y_temp[:] = yi[:] + 0.5*k2[:]\n",
    "    y_derivs = dydx(x_ipoh,y_temp)\n",
    "    k3[:] = h*y_derivs[:]\n",
    "    \n",
    "    # get our k4 value\n",
    "    y_temp[:] = y[:] + k3[:]\n",
    "    y_derivs = dydx(x_ipo,y_temp)\n",
    "    k4[:] = h*y_derivs[:]\n",
    "    \n",
    "    # advance y by a step of h\n",
    "    yipo = yi +(k1 + 2*k2 + 2*k3 +k4)/6\n",
    "    \n",
    "    # This is an array\n",
    "    return yipo"
   ]
  },
  {
   "cell_type": "markdown",
   "metadata": {},
   "source": [
    "## Define an adaptive step size driver for RK4"
   ]
  },
  {
   "cell_type": "code",
   "execution_count": 6,
   "metadata": {},
   "outputs": [],
   "source": [
    "def rk4_mv_ad(dydx,x_i,y_i,nv,h,tol):\n",
    "    \n",
    "    # define a safety scale\n",
    "    SAFETY = 0.9\n",
    "    H_NEW_FAC = 2.0\n",
    "    \n",
    "    # set a maximum number of iterations\n",
    "    imax= 10000\n",
    "    \n",
    "    # set an iteraton variable\n",
    "    i =0\n",
    "    \n",
    "    # create an error\n",
    "    Delta = np.full(nv, 2*tol)\n",
    "    \n",
    "    # remember the step that we were asked to take\n",
    "    h_step = h\n",
    "    \n",
    "    # adjust the step\n",
    "    while(Delta.max()/tol>1.0):\n",
    "        \n",
    "        # estimate our error by taking one step of size h\n",
    "        # versus two steps of size h/2\n",
    "        y_2 = rk4_mv_core(dydx,x_i,y_i,nv,h_step)\n",
    "        y_1 = rk4_mv_core(dydx,x_i,y_i,nv,0.5*h_step)\n",
    "        y_11 = rk4_mv_core(dydx,x_i+0.5*h_step,y_1,nv,0.5*h_step)\n",
    "        \n",
    "        # compute an error\n",
    "        Delta = np.fabs(y_2 - y_11)\n",
    "        \n",
    "        # If the error is too large, take a smaller step\n",
    "        if(Delta.max/tol>1.0):\n",
    "            \n",
    "            # our error is too large, decrease the step\n",
    "            h_step *= SAFETY * (Delta.max()/tol)**(-0.25)\n",
    "            \n",
    "        # check iterations\n",
    "        if(i>=imax):\n",
    "            print(\"Too many iterations in rk4_mv_ad\")\n",
    "            raise StopIteration(\"Ending after i = \",i)\n",
    "            \n",
    "        # iterate\n",
    "        i += 1\n",
    "        \n",
    "    # next time try to take a bigger step\n",
    "    h_new = np.fmin(h_step * (Delta.max()/tol)**(-0.9), h_step*H_NEW_FAC)\n",
    "    \n",
    "    # return the answer, a new step, and the step we actually took\n",
    "    return y_2, h_new, h_step"
   ]
  },
  {
   "cell_type": "markdown",
   "metadata": {},
   "source": [
    "## Define a wrapper for RK4"
   ]
  },
  {
   "cell_type": "code",
   "execution_count": null,
   "metadata": {},
   "outputs": [],
   "source": [
    "def rk4_mv(dydx,a,b,y_a,tol):\n",
    "    \n",
    "    # dydx is the derivative wrt x\n",
    "    # [a,b] are the lower and upper bounds\n",
    "    # y_a are the boundary conditions\n",
    "    # tol is the tolerance for integrating y\n",
    "    \n",
    "    # define our starting step\n",
    "    xi = a\n",
    "    yi = y_a.copy()\n",
    "    \n",
    "    # an initial step size == make very small\n",
    "    h = 1.0e-4*(b-a)\n",
    "    \n",
    "    # set a maximum iteration\n",
    "    imax = 10000\n",
    "    \n",
    "    # set an iteration variable\n",
    "    i = 0\n",
    "    \n",
    "    # set the number of coupled of ODEs to the size of y_a\n",
    "    nv = len(y_a)\n",
    "    \n",
    "    # set the initial conditions\n",
    "    x = np.full(1,a)\n",
    "    y = np.full((1,nv),y_a)\n",
    "    \n",
    "    # set a flag\n",
    "    flag = 1\n",
    "    \n",
    "    # loop until we reach the right side\n",
    "    while(flag):\n",
    "        \n",
    "        # calculate y_i+1\n",
    "        yi_new, h_new, h_step = rk4_mv_ad(dydx,xi,yi,,nv,h,tol)\n",
    "        \n",
    "        \n",
    "    "
   ]
  }
 ],
 "metadata": {
  "kernelspec": {
   "display_name": "Python 3",
   "language": "python",
   "name": "python3"
  },
  "language_info": {
   "codemirror_mode": {
    "name": "ipython",
    "version": 3
   },
   "file_extension": ".py",
   "mimetype": "text/x-python",
   "name": "python",
   "nbconvert_exporter": "python",
   "pygments_lexer": "ipython3",
   "version": "3.6.5"
  }
 },
 "nbformat": 4,
 "nbformat_minor": 2
}
